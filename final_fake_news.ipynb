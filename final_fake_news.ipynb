{
  "nbformat": 4,
  "nbformat_minor": 0,
  "metadata": {
    "colab": {
      "name": "final fake news.ipynb",
      "provenance": [],
      "collapsed_sections": []
    },
    "kernelspec": {
      "display_name": "Python 3",
      "name": "python3"
    },
    "language_info": {
      "name": "python"
    }
  },
  "cells": [
    {
      "cell_type": "code",
      "metadata": {
        "id": "L23D2Opq_b-o"
      },
      "source": [
        "import pandas as pd\n",
        "import csv\n",
        "import numpy as np\n",
        "import nltk\n",
        "from nltk.stem import SnowballStemmer\n",
        "from nltk.stem.porter import PorterStemmer\n",
        "from nltk.tokenize import word_tokenize\n",
        "import seaborn as sb\n",
        "import numpy as np\n",
        "import regex as re\n",
        "from sklearn.model_selection import GridSearchCV\n",
        "from sklearn.pipeline import Pipeline\n",
        "from sklearn.naive_bayes import MultinomialNB\n",
        "from sklearn.linear_model import  LogisticRegression\n",
        "from sklearn import svm\n",
        "from sklearn.ensemble import RandomForestClassifier\n",
        "from sklearn import metrics as metrics\n",
        "from sklearn.model_selection import KFold\n",
        "import matplotlib.pyplot as plt\n",
        "from sklearn.metrics import confusion_matrix, f1_score, classification_report\n",
        "import pickle"
      ],
      "execution_count": null,
      "outputs": []
    },
    {
      "cell_type": "code",
      "metadata": {
        "id": "O_MUi6YR0UgK"
      },
      "source": [
        "#loading dataset\n",
        "test_filename = '/content/test.csv'\n",
        "train_filename = '/content/train.csv'\n",
        "valid_filename = '/content/valid.csv'\n",
        "\n",
        "train_news = pd.read_csv(train_filename)\n",
        "test_news = pd.read_csv(test_filename)\n",
        "valid_news = pd.read_csv(valid_filename)"
      ],
      "execution_count": null,
      "outputs": []
    },
    {
      "cell_type": "code",
      "metadata": {
        "colab": {
          "base_uri": "https://localhost:8080/"
        },
        "id": "JQRzBowTCC9S",
        "outputId": "5b44323f-76b1-4fca-87c8-ab33542ea4bb"
      },
      "source": [
        "#data observation\n",
        "def data_obs():\n",
        "    print(\"training dataset size:\")\n",
        "    print(train_news.shape)\n",
        "    print(train_news.head(5))\n",
        "\n",
        "    #below dataset were used for testing and validation purposes\n",
        "    print(test_news.shape)\n",
        "    print(test_news.head(5))\n",
        "    \n",
        "    print(valid_news.shape)\n",
        "    print(valid_news.head(5))\n",
        "\n",
        "#check the data by calling below function\n",
        "data_obs()"
      ],
      "execution_count": null,
      "outputs": [
        {
          "output_type": "stream",
          "name": "stdout",
          "text": [
            "training dataset size:\n",
            "(10240, 2)\n",
            "                                           Statement  Label\n",
            "0  Says the Annies List political group supports ...  False\n",
            "1  When did the decline of coal start? It started...   True\n",
            "2  Hillary Clinton agrees with John McCain \"by vo...   True\n",
            "3  Health care reform legislation is likely to ma...  False\n",
            "4  The economic turnaround started at the end of ...   True\n",
            "(2551, 2)\n",
            "                                           Statement  Label\n",
            "0  Building a wall on the U.S.-Mexico border will...   True\n",
            "1  Wisconsin is on pace to double the number of l...  False\n",
            "2  Says John McCain has done nothing to help the ...  False\n",
            "3  Suzanne Bonamici supports a plan that will cut...   True\n",
            "4  When asked by a reporter whether hes at the ce...  False\n",
            "(2571, 2)\n",
            "                                           Statement  Label\n",
            "0  We have less Americans working now than in the...  FALSE\n",
            "1  When Obama was sworn into office, he DID NOT u...  FALSE\n",
            "2  Says Having organizations parading as being so...  FALSE\n",
            "3     Says nearly half of Oregons children are poor.   TRUE\n",
            "4  On attacks by Republicans that various program...   TRUE\n"
          ]
        }
      ]
    },
    {
      "cell_type": "code",
      "metadata": {
        "id": "9c-Kk4Svve62",
        "colab": {
          "base_uri": "https://localhost:8080/",
          "height": 299
        },
        "outputId": "29eeaef7-4420-4cf5-f7bc-6bcb1f9c901e"
      },
      "source": [
        "#distribution of classes for prediction\n",
        "def create_distribution(dataFile):\n",
        "    \n",
        "    return sb.countplot(x='Label', data=dataFile, palette='hls')\n",
        "    \n",
        "\n",
        "#by calling below we can see that training, test and valid data seems to be failry evenly distributed between the classes\n",
        "create_distribution(train_news)\n",
        "create_distribution(test_news)\n",
        "create_distribution(valid_news)"
      ],
      "execution_count": null,
      "outputs": [
        {
          "output_type": "execute_result",
          "data": {
            "text/plain": [
              "<matplotlib.axes._subplots.AxesSubplot at 0x7f9acf710650>"
            ]
          },
          "metadata": {},
          "execution_count": 3
        },
        {
          "output_type": "display_data",
          "data": {
            "image/png": "[encoded data removed]",
            "text/plain": [
              "<Figure size 432x288 with 1 Axes>"
            ]
          },
          "metadata": {
            "needs_background": "light"
          }
        }
      ]
    },
    {
      "cell_type": "code",
      "metadata": {
        "id": "6FYOWdQ5yQMw",
        "colab": {
          "base_uri": "https://localhost:8080/"
        },
        "outputId": "7045ec51-99ed-467e-aa8f-182ed95b48fc"
      },
      "source": [
        "import nltk\n",
        "nltk.download('stopwords')\n",
        "eng_stemmer = PorterStemmer()\n",
        "stopwords = set(nltk.corpus.stopwords.words('english'))"
      ],
      "execution_count": null,
      "outputs": [
        {
          "output_type": "stream",
          "name": "stdout",
          "text": [
            "[nltk_data] Downloading package stopwords to /root/nltk_data...\n",
            "[nltk_data]   Unzipping corpora/stopwords.zip.\n"
          ]
        }
      ]
    },
    {
      "cell_type": "code",
      "metadata": {
        "id": "Dld24VqgxXeP",
        "colab": {
          "base_uri": "https://localhost:8080/"
        },
        "outputId": "693a5fcc-3198-409d-872d-350a9b16be6e"
      },
      "source": [
        "#stopwords in 'english'\n",
        "print(stopwords)"
      ],
      "execution_count": null,
      "outputs": [
        {
          "output_type": "stream",
          "name": "stdout",
          "text": [
            "{\"aren't\", 'by', 'during', 'off', 'only', \"weren't\", 'once', 'wouldn', \"hadn't\", \"isn't\", 'were', 'will', 'be', 'they', 'he', \"you'd\", 'yours', 'yourself', 'theirs', \"it's\", 'into', 'ma', 'until', 'll', 'doing', 'now', 'the', 'than', 'having', 'needn', 'has', 'more', 'any', 't', \"doesn't\", 'being', 'after', 'should', \"she's\", 'did', \"needn't\", \"you're\", 'itself', 'too', 'm', 'these', 'and', \"wouldn't\", 'between', 'himself', 'hers', 'or', 'my', 'down', 'nor', 'didn', 'just', 'your', 'her', 're', 'each', 'those', 'no', 'up', 'that', \"hasn't\", 'mightn', 'you', \"you'll\", 'through', 'of', \"didn't\", 'on', 'can', 'why', 'but', 'was', 'does', 'further', 'at', 'herself', 'if', 'this', 'them', 've', 'his', 'in', 'it', \"won't\", 'other', 'are', 'below', 'shouldn', 'haven', 'above', 'their', 'hasn', 'with', 'am', 'is', \"that'll\", 'under', 'had', 'an', 'some', 'because', 'both', 'do', 'him', 'themselves', 'how', 'own', 'couldn', \"don't\", 'ours', 'not', 'shan', 'here', 'won', 'when', 'who', 'aren', 'which', 'out', 'about', 'over', 'again', 'then', 's', 'y', 'ourselves', 'a', 'me', \"you've\", 'so', \"shan't\", 'i', 'o', 'few', 'isn', \"couldn't\", 'wasn', \"should've\", 'myself', 'been', 'such', 'doesn', 'whom', \"haven't\", 'as', 'where', 'don', 'all', \"shouldn't\", 'what', 'have', 'very', 'we', 'hadn', 'mustn', 'from', 'while', 'its', 'same', \"mightn't\", 'd', 'yourselves', 'most', 'weren', 'our', \"mustn't\", \"wasn't\", 'she', 'for', 'there', 'against', 'to', 'ain', 'before'}\n"
          ]
        }
      ]
    },
    {
      "cell_type": "code",
      "metadata": {
        "id": "5k-Ojzn0yF0A"
      },
      "source": [
        "#preprocess data: remove punctuations\n",
        "def preprocess(text, pattern):\n",
        "    if pattern=='[.]+':\n",
        "        text = re.sub(pattern, '. ', text)\n",
        "    elif pattern ==\"[']\" or pattern == \"[/w+-/w+]\":\n",
        "        text =  re.sub(pattern, ' ', text)\n",
        "    else:\n",
        "        text = re.sub(pattern, '', text)\n",
        "    #print(text, '\\n')\n",
        "    return text"
      ],
      "execution_count": null,
      "outputs": []
    },
    {
      "cell_type": "code",
      "metadata": {
        "id": "qr2U0k611x7Z"
      },
      "source": [
        "#train_data removing punctuations\n",
        "train_news['Statement'] = np.vectorize(preprocess)(train_news['Statement'], '[.]+')\n",
        "train_news['Statement'] = np.vectorize(preprocess)(train_news['Statement'], \"[']\")\n",
        "train_news['Statement']= np.vectorize(preprocess)(train_news['Statement'], \"[/w+-/w+]\")\n",
        "train_news['Statement'] = np.vectorize(preprocess)(train_news['Statement'], '[^\\w\\s]*')\n"
      ],
      "execution_count": null,
      "outputs": []
    },
    {
      "cell_type": "code",
      "metadata": {
        "id": "9bW1ZtP_2VMM",
        "colab": {
          "base_uri": "https://localhost:8080/",
          "height": 35
        },
        "outputId": "998bcab1-4115-4cbf-fca3-21f2d2f905e0"
      },
      "source": [
        "#train_data after removing punctuations\n",
        "train_news['Statement'][0]"
      ],
      "execution_count": null,
      "outputs": [
        {
          "output_type": "execute_result",
          "data": {
            "application/vnd.google.colaboratory.intrinsic+json": {
              "type": "string"
            },
            "text/plain": [
              "'Says the Annies List political group supports third trimester abortions on demand  '"
            ]
          },
          "metadata": {},
          "execution_count": 46
        }
      ]
    },
    {
      "cell_type": "code",
      "metadata": {
        "id": "o7wTNxF1wS-0"
      },
      "source": [
        "#process the data \n",
        "#tokenize,stemming and remove stop words\n",
        "def process_data(data):\n",
        "    tokens = []\n",
        "    tokens = data.lower().split()\n",
        "    tokens_stemmed = []\n",
        "    for word in tokens:\n",
        "      if word not in stopwords:\n",
        "        tokens_stemmed.append(eng_stemmer.stem(word))\n",
        "    sentence = ' '.join(tokens_stemmed)\n",
        "    return sentence"
      ],
      "execution_count": null,
      "outputs": []
    },
    {
      "cell_type": "code",
      "metadata": {
        "id": "0zeynU2EwW8V"
      },
      "source": [
        "train_news['Statement'] = np.vectorize(process_data)(train_news['Statement'])"
      ],
      "execution_count": null,
      "outputs": []
    },
    {
      "cell_type": "code",
      "metadata": {
        "id": "tPybkQxB6ypu",
        "colab": {
          "base_uri": "https://localhost:8080/"
        },
        "outputId": "4a183d18-b721-4d04-f98d-7466aa9208bb"
      },
      "source": [
        "#train_data after stemming\n",
        "train_news['Statement'].head()"
      ],
      "execution_count": null,
      "outputs": [
        {
          "output_type": "execute_result",
          "data": {
            "text/plain": [
              "0    say anni list polit group support third trimes...\n",
              "1    declin coal start start hen natur ga took star...\n",
              "2    hillari clinton agre ith john mccain vote give...\n",
              "3    health care reform legisl like mandat free sex...\n",
              "4                     econom turnaround start end term\n",
              "Name: Statement, dtype: object"
            ]
          },
          "metadata": {},
          "execution_count": 11
        }
      ]
    },
    {
      "cell_type": "code",
      "metadata": {
        "id": "i8XlvNkmBg_a"
      },
      "source": [
        "#test_data set removing punctuations\n",
        "test_news['Statement'] = np.vectorize(preprocess)(test_news['Statement'], '[.]+')\n",
        "test_news['Statement'] = np.vectorize(preprocess)(test_news['Statement'], \"[']\")\n",
        "test_news['Statement']= np.vectorize(preprocess)(test_news['Statement'], \"[/w+-/w+]\")\n",
        "test_news['Statement'] = np.vectorize(preprocess)(test_news['Statement'], '[^\\w\\s]*')"
      ],
      "execution_count": null,
      "outputs": []
    },
    {
      "cell_type": "code",
      "metadata": {
        "colab": {
          "base_uri": "https://localhost:8080/",
          "height": 35
        },
        "id": "D1R5Iz8rDOrT",
        "outputId": "e99bba78-ff4a-47d3-c037-9b1796797b77"
      },
      "source": [
        "#test_data after removing punctuations\n",
        "test_news['Statement'][0]"
      ],
      "execution_count": null,
      "outputs": [
        {
          "output_type": "execute_result",
          "data": {
            "application/vnd.google.colaboratory.intrinsic+json": {
              "type": "string"
            },
            "text/plain": [
              "'Building a  all on the U  S   Mexico border  ill take literally years  '"
            ]
          },
          "metadata": {},
          "execution_count": 12
        }
      ]
    },
    {
      "cell_type": "code",
      "metadata": {
        "id": "ZwAjW_oaDT7d"
      },
      "source": [
        "test_news['Statement'] = np.vectorize(process_data)(test_news['Statement'])"
      ],
      "execution_count": null,
      "outputs": []
    },
    {
      "cell_type": "code",
      "metadata": {
        "colab": {
          "base_uri": "https://localhost:8080/"
        },
        "id": "IOtUOKI7Dkgk",
        "outputId": "b9d2e6fc-9ed1-4e46-cb35-e61a25ebd51d"
      },
      "source": [
        "#test_data after stemming\n",
        "test_news['Statement'].head()"
      ],
      "execution_count": null,
      "outputs": [
        {
          "output_type": "execute_result",
          "data": {
            "text/plain": [
              "0            build u mexico border ill take liter year\n",
              "1              wisconsin pace doubl number layoff year\n",
              "2                   say john mccain done noth help vet\n",
              "3    suzann bonamici support plan ill cut choic med...\n",
              "4    ask report hether he center crimin scheme viol...\n",
              "Name: Statement, dtype: object"
            ]
          },
          "metadata": {},
          "execution_count": 14
        }
      ]
    },
    {
      "cell_type": "code",
      "metadata": {
        "id": "74R4IvC8Dy_D"
      },
      "source": [
        "#valid_data set removing punctuations\n",
        "valid_news['Statement'] = np.vectorize(preprocess)(valid_news['Statement'], '[.]+')\n",
        "valid_news['Statement'] = np.vectorize(preprocess)(valid_news['Statement'], \"[']\")\n",
        "valid_news['Statement']= np.vectorize(preprocess)(valid_news['Statement'], \"[/w+-/w+]\")\n",
        "valid_news['Statement'] = np.vectorize(preprocess)(valid_news['Statement'], '[^\\w\\s]*')"
      ],
      "execution_count": null,
      "outputs": []
    },
    {
      "cell_type": "code",
      "metadata": {
        "colab": {
          "base_uri": "https://localhost:8080/",
          "height": 35
        },
        "id": "raFRezAJENw5",
        "outputId": "0039deb3-9f39-4df8-d86e-1782c981c222"
      },
      "source": [
        "#valid_data after removing punctuations\n",
        "valid_news['Statement'][0]"
      ],
      "execution_count": null,
      "outputs": [
        {
          "output_type": "execute_result",
          "data": {
            "application/vnd.google.colaboratory.intrinsic+json": {
              "type": "string"
            },
            "text/plain": [
              "'We have less Americans  orking no  than in the 70s  '"
            ]
          },
          "metadata": {},
          "execution_count": 16
        }
      ]
    },
    {
      "cell_type": "code",
      "metadata": {
        "id": "Vts4jmYMERRY"
      },
      "source": [
        "valid_news['Statement'] = np.vectorize(process_data)(valid_news['Statement'])"
      ],
      "execution_count": null,
      "outputs": []
    },
    {
      "cell_type": "code",
      "metadata": {
        "colab": {
          "base_uri": "https://localhost:8080/"
        },
        "id": "6bUrSHdEEWmf",
        "outputId": "a4ff02eb-c1e5-439e-bf0c-06e70f01e3ea"
      },
      "source": [
        "#valid_data after stemming\n",
        "valid_news['Statement'].head()"
      ],
      "execution_count": null,
      "outputs": [
        {
          "output_type": "execute_result",
          "data": {
            "text/plain": [
              "0                                 less american ork 70\n",
              "1    obama orn offic use holi bibl instead kuran eq...\n",
              "2    say organ parad social elfar organ involv poli...\n",
              "3                 say nearli half oregon children poor\n",
              "4    attack republican variou program econom stimul...\n",
              "Name: Statement, dtype: object"
            ]
          },
          "metadata": {},
          "execution_count": 18
        }
      ]
    },
    {
      "cell_type": "code",
      "metadata": {
        "id": "_T_U51SFzEWK"
      },
      "source": [
        "#feature_extraction\n",
        "from sklearn.feature_extraction.text import TfidfVectorizer\n",
        "tfidf_ngram = TfidfVectorizer(stop_words = 'english', ngram_range=(1,4),use_idf=True,smooth_idf=True)"
      ],
      "execution_count": null,
      "outputs": []
    },
    {
      "cell_type": "code",
      "metadata": {
        "id": "-awDtK-D7GEU",
        "colab": {
          "base_uri": "https://localhost:8080/"
        },
        "outputId": "205b515e-9906-40e2-b3e9-7ba278e9c399"
      },
      "source": [
        "tfidf_ngram"
      ],
      "execution_count": null,
      "outputs": [
        {
          "output_type": "execute_result",
          "data": {
            "text/plain": [
              "TfidfVectorizer(analyzer='word', binary=False, decode_error='strict',\n",
              "                dtype=<class 'numpy.float64'>, encoding='utf-8',\n",
              "                input='content', lowercase=True, max_df=1.0, max_features=None,\n",
              "                min_df=1, ngram_range=(1, 4), norm='l2', preprocessor=None,\n",
              "                smooth_idf=True, stop_words='english', strip_accents=None,\n",
              "                sublinear_tf=False, token_pattern='(?u)\\\\b\\\\w\\\\w+\\\\b',\n",
              "                tokenizer=None, use_idf=True, vocabulary=None)"
            ]
          },
          "metadata": {},
          "execution_count": 13
        }
      ]
    },
    {
      "cell_type": "code",
      "metadata": {
        "id": "9W7lklhvgLf7"
      },
      "source": [
        "#User defined functon for K-Fold cross validatoin\n",
        "def build_confusion_matrix(classifier):\n",
        "    \n",
        "    k_fold = KFold(n_splits=5)\n",
        "    scores = []\n",
        "    confusion = np.array([[0,0],[0,0]])\n",
        "\n",
        "    for train_ind, test_ind in k_fold.split(train_news):\n",
        "        train_text = train_news.iloc[train_ind]['Statement'] \n",
        "        train_y = train_news.iloc[train_ind]['Label']\n",
        "    \n",
        "        test_text = train_news.iloc[test_ind]['Statement']\n",
        "        test_y = train_news.iloc[test_ind]['Label']\n",
        "        \n",
        "        classifier.fit(train_text,train_y)\n",
        "        predictions = classifier.predict(test_text)\n",
        "        \n",
        "        confusion += confusion_matrix(test_y,predictions)\n",
        "        score = f1_score(test_y,predictions)\n",
        "        scores.append(score)\n",
        "    \n",
        "    return (print('Total statements classified:', len(train_news)),\n",
        "    print('Score:', sum(scores)/len(scores)),\n",
        "    print('score length', len(scores)),\n",
        "    print('Confusion matrix:'),\n",
        "    print(confusion))\n",
        " "
      ],
      "execution_count": null,
      "outputs": []
    },
    {
      "cell_type": "code",
      "metadata": {
        "id": "J3vjH-tugMf6",
        "colab": {
          "base_uri": "https://localhost:8080/"
        },
        "outputId": "f0e9f8fb-f9bc-41f1-a369-018020a842df"
      },
      "source": [
        "##Now using n-grams\n",
        "#naive-bayes classifier\n",
        "nb_pipeline_ngram = Pipeline([('nb_tfidf',tfidf_ngram),('nb_clf',MultinomialNB())])\n",
        "\n",
        "nb_pipeline_ngram.fit(train_news['Statement'],train_news['Label'])\n",
        "predicted_nb_ngram = nb_pipeline_ngram.predict(test_news['Statement'])\n",
        "np.mean(predicted_nb_ngram == test_news['Label'])\n",
        "\n",
        "build_confusion_matrix(nb_pipeline_ngram)"
      ],
      "execution_count": null,
      "outputs": [
        {
          "output_type": "stream",
          "name": "stdout",
          "text": [
            "Total statements classified: 10240\n",
            "Score: 0.7224053159841455\n",
            "score length 5\n",
            "Confusion matrix:\n",
            "[[ 758 3730]\n",
            " [ 390 5362]]\n"
          ]
        },
        {
          "output_type": "execute_result",
          "data": {
            "text/plain": [
              "(None, None, None, None, None)"
            ]
          },
          "metadata": {},
          "execution_count": 23
        }
      ]
    },
    {
      "cell_type": "code",
      "metadata": {
        "id": "-rcLvYOOfX2B",
        "colab": {
          "base_uri": "https://localhost:8080/"
        },
        "outputId": "316b6188-10c3-4d56-e624-57c47512f31f"
      },
      "source": [
        "#logistic regression classifier\n",
        "logR_pipeline_ngram = Pipeline([('LogR_tfidf',tfidf_ngram),('LogR_clf',LogisticRegression(penalty=\"l2\",C=1))])\n",
        "\n",
        "logR_pipeline_ngram.fit(train_news['Statement'],train_news['Label'])\n",
        "predicted_LogR_ngram = logR_pipeline_ngram.predict(test_news['Statement'])\n",
        "np.mean(predicted_LogR_ngram == test_news['Label'])\n",
        "\n",
        "build_confusion_matrix(logR_pipeline_ngram)"
      ],
      "execution_count": null,
      "outputs": [
        {
          "output_type": "stream",
          "name": "stdout",
          "text": [
            "Total statements classified: 10240\n",
            "Score: 0.7044355553757985\n",
            "score length 5\n",
            "Confusion matrix:\n",
            "[[1580 2908]\n",
            " [1043 4709]]\n"
          ]
        },
        {
          "output_type": "execute_result",
          "data": {
            "text/plain": [
              "(None, None, None, None, None)"
            ]
          },
          "metadata": {},
          "execution_count": 25
        }
      ]
    },
    {
      "cell_type": "code",
      "metadata": {
        "id": "UD3kPbNGhFRy",
        "colab": {
          "base_uri": "https://localhost:8080/"
        },
        "outputId": "8649e7bc-e03e-4953-ce7a-566d13f8f5a9"
      },
      "source": [
        "#linear SVM classifier\n",
        "svm_pipeline_ngram = Pipeline([('svm_tfidf',tfidf_ngram),('svm_clf',svm.LinearSVC())])\n",
        "\n",
        "svm_pipeline_ngram.fit(train_news['Statement'],train_news['Label'])\n",
        "predicted_svm_ngram = svm_pipeline_ngram.predict(test_news['Statement'])\n",
        "np.mean(predicted_svm_ngram == test_news['Label'])\n",
        "\n",
        "build_confusion_matrix(svm_pipeline_ngram)"
      ],
      "execution_count": null,
      "outputs": [
        {
          "output_type": "stream",
          "name": "stdout",
          "text": [
            "Total statements classified: 10240\n",
            "Score: 0.6790920142902143\n",
            "score length 5\n",
            "Confusion matrix:\n",
            "[[2016 2472]\n",
            " [1524 4228]]\n"
          ]
        },
        {
          "output_type": "execute_result",
          "data": {
            "text/plain": [
              "(None, None, None, None, None)"
            ]
          },
          "metadata": {},
          "execution_count": 26
        }
      ]
    },
    {
      "cell_type": "code",
      "metadata": {
        "id": "YQ0JqKl5hJeZ",
        "colab": {
          "base_uri": "https://localhost:8080/"
        },
        "outputId": "b7c12f59-1963-442f-b955-babf9e909f3b"
      },
      "source": [
        "#random forest classifier\n",
        "random_forest_ngram = Pipeline([('rf_tfidf',tfidf_ngram),('rf_clf',RandomForestClassifier(n_estimators=300,n_jobs=3))])\n",
        "    \n",
        "random_forest_ngram.fit(train_news['Statement'],train_news['Label'])\n",
        "predicted_rf_ngram = random_forest_ngram.predict(test_news['Statement'])\n",
        "np.mean(predicted_rf_ngram == test_news['Label'])\n",
        "\n",
        "build_confusion_matrix(random_forest_ngram)"
      ],
      "execution_count": null,
      "outputs": [
        {
          "output_type": "stream",
          "name": "stdout",
          "text": [
            "Total statements classified: 10240\n",
            "Score: 0.6621097130357407\n",
            "score length 5\n",
            "Confusion matrix:\n",
            "[[1984 2504]\n",
            " [1666 4086]]\n"
          ]
        },
        {
          "output_type": "execute_result",
          "data": {
            "text/plain": [
              "(None, None, None, None, None)"
            ]
          },
          "metadata": {},
          "execution_count": 27
        }
      ]
    },
    {
      "cell_type": "code",
      "metadata": {
        "id": "2gb7LjO09g7q",
        "colab": {
          "base_uri": "https://localhost:8080/"
        },
        "outputId": "4656cd81-7190-4b2c-dcba-ebdc06a358cb"
      },
      "source": [
        "print(classification_report(test_news['Label'], predicted_nb_ngram))"
      ],
      "execution_count": null,
      "outputs": [
        {
          "output_type": "stream",
          "name": "stdout",
          "text": [
            "              precision    recall  f1-score   support\n",
            "\n",
            "       False       0.67      0.14      0.23      1169\n",
            "        True       0.56      0.94      0.71      1382\n",
            "\n",
            "    accuracy                           0.57      2551\n",
            "   macro avg       0.62      0.54      0.47      2551\n",
            "weighted avg       0.61      0.57      0.49      2551\n",
            "\n"
          ]
        }
      ]
    },
    {
      "cell_type": "code",
      "metadata": {
        "id": "J8WU6Q4j9NUq",
        "colab": {
          "base_uri": "https://localhost:8080/"
        },
        "outputId": "442fbe74-28db-4596-d87b-b7f5922b55d9"
      },
      "source": [
        "print(classification_report(test_news['Label'], predicted_LogR_ngram))"
      ],
      "execution_count": null,
      "outputs": [
        {
          "output_type": "stream",
          "name": "stdout",
          "text": [
            "              precision    recall  f1-score   support\n",
            "\n",
            "       False       0.60      0.35      0.45      1169\n",
            "        True       0.60      0.80      0.68      1382\n",
            "\n",
            "    accuracy                           0.60      2551\n",
            "   macro avg       0.60      0.58      0.56      2551\n",
            "weighted avg       0.60      0.60      0.57      2551\n",
            "\n"
          ]
        }
      ]
    },
    {
      "cell_type": "code",
      "metadata": {
        "id": "7WoQOGE19p7Z",
        "colab": {
          "base_uri": "https://localhost:8080/"
        },
        "outputId": "33896ed7-8889-4c96-b402-59fcaef677a3"
      },
      "source": [
        "print(classification_report(test_news['Label'], predicted_svm_ngram))"
      ],
      "execution_count": null,
      "outputs": [
        {
          "output_type": "stream",
          "name": "stdout",
          "text": [
            "              precision    recall  f1-score   support\n",
            "\n",
            "       False       0.56      0.44      0.50      1169\n",
            "        True       0.60      0.71      0.65      1382\n",
            "\n",
            "    accuracy                           0.59      2551\n",
            "   macro avg       0.58      0.58      0.57      2551\n",
            "weighted avg       0.58      0.59      0.58      2551\n",
            "\n"
          ]
        }
      ]
    },
    {
      "cell_type": "code",
      "metadata": {
        "id": "wYtl2K2k9wXJ",
        "colab": {
          "base_uri": "https://localhost:8080/"
        },
        "outputId": "dc80fbf4-d03e-4879-dfbd-2ba0253db961"
      },
      "source": [
        "print(classification_report(test_news['Label'], predicted_rf_ngram))"
      ],
      "execution_count": null,
      "outputs": [
        {
          "output_type": "stream",
          "name": "stdout",
          "text": [
            "              precision    recall  f1-score   support\n",
            "\n",
            "       False       0.55      0.38      0.45      1169\n",
            "        True       0.58      0.74      0.65      1382\n",
            "\n",
            "    accuracy                           0.57      2551\n",
            "   macro avg       0.57      0.56      0.55      2551\n",
            "weighted avg       0.57      0.57      0.56      2551\n",
            "\n"
          ]
        }
      ]
    },
    {
      "cell_type": "code",
      "metadata": {
        "id": "nl3ebJVm5xcT"
      },
      "source": [
        "\"\"\"\n",
        "Out of all the models fitted, we would take 2 best performing model. we would call them candidate models\n",
        "from the confusion matrix, we can see that random forest and logistic regression are best performing \n",
        "in terms of precision and recall (take a look into false positive and true negative counts which appeares\n",
        "to be low compared to rest of the models)\n",
        "\"\"\""
      ],
      "execution_count": null,
      "outputs": []
    },
    {
      "cell_type": "code",
      "metadata": {
        "id": "ubMPlT756J7p"
      },
      "source": [
        "#grid-search parameter optimization\n",
        "#random forest classifier parameters\n",
        "parameters = {'rf_tfidf__ngram_range': [(1, 1), (1, 2),(1,3),(1,4),(1,5)],\n",
        "               'rf_tfidf__use_idf': (True, False),\n",
        "               'rf_clf__max_depth': (1,2,3,4,5,6,7,8,9,10,11,12,13,14,15)\n",
        "}\n",
        "\n",
        "gs_clf = GridSearchCV(random_forest_ngram, parameters, n_jobs=-1)\n",
        "gs_clf = gs_clf.fit(train_news['Statement'][:10000],train_news['Label'][:10000])"
      ],
      "execution_count": null,
      "outputs": []
    },
    {
      "cell_type": "code",
      "metadata": {
        "id": "MRKmh941GKPW",
        "colab": {
          "base_uri": "https://localhost:8080/"
        },
        "outputId": "8ed3ae8a-4bea-4510-a3e5-3ae21f10dbd2"
      },
      "source": [
        "print(gs_clf.best_score_)"
      ],
      "execution_count": null,
      "outputs": [
        {
          "output_type": "stream",
          "name": "stdout",
          "text": [
            "0.5677\n"
          ]
        }
      ]
    },
    {
      "cell_type": "code",
      "metadata": {
        "colab": {
          "base_uri": "https://localhost:8080/"
        },
        "id": "ZTWwt4qCPWDL",
        "outputId": "4b005a2b-581d-4a64-ea41-14b6a2741882"
      },
      "source": [
        "print(gs_clf.best_params_)"
      ],
      "execution_count": null,
      "outputs": [
        {
          "output_type": "stream",
          "name": "stdout",
          "text": [
            "{'rf_clf__max_depth': 15, 'rf_tfidf__ngram_range': (1, 1), 'rf_tfidf__use_idf': False}\n"
          ]
        }
      ]
    },
    {
      "cell_type": "code",
      "metadata": {
        "id": "ap1Tw8mE6Spz"
      },
      "source": [
        "#grid-search parameter optimization\n",
        "#logistic regression parameters\n",
        "parameters = {'LogR_tfidf__ngram_range': [(1, 1), (1, 2),(1,3),(1,4),(1,5)],\n",
        "               'LogR_tfidf__use_idf': (True, False),\n",
        "               'LogR_tfidf__smooth_idf': (True, False)\n",
        "}\n",
        "\n",
        "gs_clf = GridSearchCV(logR_pipeline_ngram, parameters, n_jobs=-1)\n",
        "gs_clf = gs_clf.fit(train_news['Statement'][:10000],train_news['Label'][:10000])"
      ],
      "execution_count": null,
      "outputs": []
    },
    {
      "cell_type": "code",
      "metadata": {
        "id": "sm4ZwcdEBhps",
        "colab": {
          "base_uri": "https://localhost:8080/"
        },
        "outputId": "90b0af6c-42cf-42b1-9496-fd3a75013a54"
      },
      "source": [
        "print(gs_clf.best_score_)"
      ],
      "execution_count": null,
      "outputs": [
        {
          "output_type": "stream",
          "name": "stdout",
          "text": [
            "0.6119\n"
          ]
        }
      ]
    },
    {
      "cell_type": "code",
      "metadata": {
        "id": "hdbC_zLpJpWL",
        "colab": {
          "base_uri": "https://localhost:8080/"
        },
        "outputId": "537cae9c-406c-48ad-9e85-9f2497bfb0b5"
      },
      "source": [
        "print(gs_clf.best_params_)"
      ],
      "execution_count": null,
      "outputs": [
        {
          "output_type": "stream",
          "name": "stdout",
          "text": [
            "{'LogR_tfidf__ngram_range': (1, 5), 'LogR_tfidf__smooth_idf': True, 'LogR_tfidf__use_idf': True}\n"
          ]
        }
      ]
    },
    {
      "cell_type": "code",
      "metadata": {
        "id": "PdVHRxoF6VF6"
      },
      "source": [
        "#by running above commands we can find the model with best performing parameters"
      ],
      "execution_count": null,
      "outputs": []
    },
    {
      "cell_type": "code",
      "metadata": {
        "colab": {
          "base_uri": "https://localhost:8080/"
        },
        "id": "DDDtI8D_6ZzK",
        "outputId": "2cd50950-a0f7-4f38-e58f-59b8e1378a11"
      },
      "source": [
        "#running both random forest and logistic regression models again with best parameter found with GridSearch method\n",
        "random_forest_final = Pipeline([\n",
        "        ('rf_tfidf',TfidfVectorizer(stop_words='english',ngram_range=(1,3),use_idf=True,smooth_idf=True)),\n",
        "        ('rf_clf',RandomForestClassifier(n_estimators=300,n_jobs=3,max_depth=10))\n",
        "        ])\n",
        "    \n",
        "random_forest_final.fit(train_news['Statement'],train_news['Label'])\n",
        "predicted_rf_final = random_forest_final.predict(test_news['Statement'])\n",
        "np.mean(predicted_rf_final == test_news['Label'])\n",
        "print(metrics.classification_report(test_news['Label'], predicted_rf_final))"
      ],
      "execution_count": null,
      "outputs": [
        {
          "output_type": "stream",
          "name": "stdout",
          "text": [
            "              precision    recall  f1-score   support\n",
            "\n",
            "       False       0.00      0.00      0.00      1169\n",
            "        True       0.54      1.00      0.70      1382\n",
            "\n",
            "    accuracy                           0.54      2551\n",
            "   macro avg       0.27      0.50      0.35      2551\n",
            "weighted avg       0.29      0.54      0.38      2551\n",
            "\n"
          ]
        },
        {
          "output_type": "stream",
          "name": "stderr",
          "text": [
            "/usr/local/lib/python3.7/dist-packages/sklearn/metrics/_classification.py:1272: UndefinedMetricWarning: Precision and F-score are ill-defined and being set to 0.0 in labels with no predicted samples. Use `zero_division` parameter to control this behavior.\n",
            "  _warn_prf(average, modifier, msg_start, len(result))\n"
          ]
        }
      ]
    },
    {
      "cell_type": "code",
      "metadata": {
        "colab": {
          "base_uri": "https://localhost:8080/"
        },
        "id": "M1GpOeMi75Kq",
        "outputId": "bb5859f3-07b1-41e9-860d-5402648d9ea7"
      },
      "source": [
        "logR_pipeline_final = Pipeline([\n",
        "        #('LogRCV',countV_ngram),\n",
        "        ('LogR_tfidf',TfidfVectorizer(stop_words='english',ngram_range=(1,5),use_idf=True,smooth_idf=False)),\n",
        "        ('LogR_clf',LogisticRegression(penalty=\"l2\",C=1))\n",
        "        ])\n",
        "\n",
        "logR_pipeline_final.fit(train_news['Statement'],train_news['Label'])\n",
        "predicted_LogR_final = logR_pipeline_final.predict(test_news['Statement'])\n",
        "np.mean(predicted_LogR_final == test_news['Label'])\n",
        "#accuracy = 0.62\n",
        "print(metrics.classification_report(test_news['Label'], predicted_LogR_final))"
      ],
      "execution_count": null,
      "outputs": [
        {
          "output_type": "stream",
          "name": "stdout",
          "text": [
            "              precision    recall  f1-score   support\n",
            "\n",
            "       False       0.61      0.34      0.44      1169\n",
            "        True       0.59      0.82      0.69      1382\n",
            "\n",
            "    accuracy                           0.60      2551\n",
            "   macro avg       0.60      0.58      0.56      2551\n",
            "weighted avg       0.60      0.60      0.57      2551\n",
            "\n"
          ]
        }
      ]
    },
    {
      "cell_type": "code",
      "metadata": {
        "id": "SigyK9zM6hPv"
      },
      "source": [
        "\"\"\"\n",
        "by running both random forest and logistic regression with GridSearch's best parameter estimation, we found that for random \n",
        "forest model with n-gram has better accuracty than with the parameter estimated. The logistic regression model with best parameter \n",
        "has almost similar performance as n-gram model so logistic regression will be out choice of model for prediction.\n",
        "\"\"\"\n",
        "\n",
        "#saving best model to the disk\n",
        "model_file = 'final_model.sav'\n",
        "pickle.dump(logR_pipeline_ngram,open(model_file,'wb'))"
      ],
      "execution_count": null,
      "outputs": []
    },
    {
      "cell_type": "code",
      "metadata": {
        "colab": {
          "base_uri": "https://localhost:8080/"
        },
        "id": "RE_7yVhUQQxN",
        "outputId": "0d2d8c5c-c87b-49f1-f373-e329827018fc"
      },
      "source": [
        "var = input(\"Please enter the news text you want to verify: \")\n",
        "print(\"You entered: \" + str(var))\n",
        "\n",
        "\n",
        "#function to run for prediction\n",
        "def detecting_fake_news(var):    \n",
        "#retrieving the best model for prediction call\n",
        "    load_model = pickle.load(open('final_model.sav', 'rb'))\n",
        "    prediction = load_model.predict([var])\n",
        "    prob = load_model.predict_proba([var])\n",
        "\n",
        "    return (print(\"The given statement is \",prediction[0]),\n",
        "        print(\"The truth probability score is \",prob[0][1]))\n",
        "\n",
        "\n",
        "if __name__ == '__main__':\n",
        "    detecting_fake_news(var)"
      ],
      "execution_count": null,
      "outputs": [
        {
          "output_type": "stream",
          "name": "stdout",
          "text": [
            "Please enter the news text you want to verify: Donald Trump is against marriage equality. He wants to go back.\n",
            "You entered: Donald Trump is against marriage equality. He wants to go back.\n",
            "The given statement is  True\n",
            "The truth probability score is  0.6053158290155631\n"
          ]
        }
      ]
    }
  ]
}